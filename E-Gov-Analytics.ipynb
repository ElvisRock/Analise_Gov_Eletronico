{
 "cells": [
  {
   "cell_type": "markdown",
   "id": "e52d82e8",
   "metadata": {},
   "source": [
    "<font color = 'purple'>E-Gov-Analytics - Feito por Elvis</font>"
   ]
  },
  {
   "cell_type": "markdown",
   "id": "da9bc61e",
   "metadata": {},
   "source": [
    "# <font color = 'blue'> Data Science Academy<font>\n",
    "    \n",
    "# <font color = 'blue'>E-Gov-Analytics<font>\n",
    "\n",
    "## <font color = 'blue'>Projeto<font>\n",
    "\n",
    "## <font color = 'blue'>Como Aumento do PIB e Gastos do Governo Impactam os Setores de Saúde e Educação<font>"
   ]
  },
  {
   "cell_type": "markdown",
   "id": "79d1488c",
   "metadata": {},
   "source": [
    "![title](imagens/projeto.png)"
   ]
  },
  {
   "cell_type": "markdown",
   "id": "d0729001",
   "metadata": {},
   "source": [
    "# Instalando e Carregando os dados"
   ]
  },
  {
   "cell_type": "code",
   "execution_count": 2,
   "id": "4414ecbd",
   "metadata": {},
   "outputs": [],
   "source": [
    "# Imports\n",
    "import numpy as np\n",
    "import pandas as pd\n",
    "import matplotlib.pyplot as plt\n",
    "import seaborn as sb\n",
    "import sklearn\n",
    "from sklearn.linear_model import LinearRegression"
   ]
  },
  {
   "cell_type": "code",
   "execution_count": 3,
   "id": "bb679658",
   "metadata": {},
   "outputs": [
    {
     "name": "stdout",
     "output_type": "stream",
     "text": [
      "Author: Elvis\n",
      "\n",
      "seaborn   : 0.11.2\n",
      "numpy     : 1.20.3\n",
      "pandas    : 1.3.4\n",
      "matplotlib: 3.4.3\n",
      "sklearn   : 0.24.2\n",
      "\n"
     ]
    }
   ],
   "source": [
    "# Versões ods pacotes usados Neste Jupyter Notebook\n",
    "%reload_ext watermark\n",
    "%watermark -a \"Elvis\" --iversions"
   ]
  },
  {
   "cell_type": "markdown",
   "id": "2f286e70",
   "metadata": {},
   "source": [
    "# Carregando e Compreendendo os Dados"
   ]
  },
  {
   "cell_type": "code",
   "execution_count": 4,
   "id": "ecb71783",
   "metadata": {},
   "outputs": [],
   "source": [
    "# Carrega o dataset\n",
    "dados_egov = pd.read_excel('dados/dataset.xlsx')"
   ]
  },
  {
   "cell_type": "code",
   "execution_count": 5,
   "id": "ba079822",
   "metadata": {},
   "outputs": [
    {
     "data": {
      "text/plain": [
       "(17, 16)"
      ]
     },
     "execution_count": 5,
     "metadata": {},
     "output_type": "execute_result"
    }
   ],
   "source": [
    "# Visualiza o formato - Shape - Linhas e Colunas\n",
    "dados_egov.shape"
   ]
  },
  {
   "cell_type": "code",
   "execution_count": 6,
   "id": "d5b05c0f",
   "metadata": {},
   "outputs": [
    {
     "data": {
      "text/html": [
       "<div>\n",
       "<style scoped>\n",
       "    .dataframe tbody tr th:only-of-type {\n",
       "        vertical-align: middle;\n",
       "    }\n",
       "\n",
       "    .dataframe tbody tr th {\n",
       "        vertical-align: top;\n",
       "    }\n",
       "\n",
       "    .dataframe thead th {\n",
       "        text-align: right;\n",
       "    }\n",
       "</style>\n",
       "<table border=\"1\" class=\"dataframe\">\n",
       "  <thead>\n",
       "    <tr style=\"text-align: right;\">\n",
       "      <th></th>\n",
       "      <th>ano_coleta</th>\n",
       "      <th>despesas_educ_percent</th>\n",
       "      <th>despesas_saude_per_capita</th>\n",
       "      <th>despesas_educ_total</th>\n",
       "      <th>despesas_saude_%pib</th>\n",
       "      <th>receita_trib_%pib</th>\n",
       "      <th>receita_excl_doa_%pib</th>\n",
       "      <th>ibrd_e_ida</th>\n",
       "      <th>pop_cresc_anual%</th>\n",
       "      <th>pib_cresc_per_capita_%pib</th>\n",
       "      <th>pib_deflator</th>\n",
       "      <th>domestic_saude_despesas_%pib</th>\n",
       "      <th>pib_cresc_anual%</th>\n",
       "      <th>pib_cor_us$</th>\n",
       "      <th>despesa_nac_bruta_%pib</th>\n",
       "      <th>pib_moeda_local</th>\n",
       "    </tr>\n",
       "  </thead>\n",
       "  <tbody>\n",
       "    <tr>\n",
       "      <th>0</th>\n",
       "      <td>2003</td>\n",
       "      <td>20.85074</td>\n",
       "      <td>25.437891</td>\n",
       "      <td>24.98009</td>\n",
       "      <td>5.169123</td>\n",
       "      <td>NaN</td>\n",
       "      <td>NaN</td>\n",
       "      <td>2.741964e+09</td>\n",
       "      <td>2.709600</td>\n",
       "      <td>0.180864</td>\n",
       "      <td>51.824235</td>\n",
       "      <td>1.488423</td>\n",
       "      <td>2.932476</td>\n",
       "      <td>1.490452e+10</td>\n",
       "      <td>111.732648</td>\n",
       "      <td>1131782000000</td>\n",
       "    </tr>\n",
       "    <tr>\n",
       "      <th>1</th>\n",
       "      <td>2004</td>\n",
       "      <td>23.40954</td>\n",
       "      <td>27.526983</td>\n",
       "      <td>26.66815</td>\n",
       "      <td>5.344949</td>\n",
       "      <td>NaN</td>\n",
       "      <td>NaN</td>\n",
       "      <td>2.882726e+09</td>\n",
       "      <td>2.720796</td>\n",
       "      <td>2.283178</td>\n",
       "      <td>55.517666</td>\n",
       "      <td>1.416008</td>\n",
       "      <td>5.104300</td>\n",
       "      <td>1.609534e+10</td>\n",
       "      <td>110.347249</td>\n",
       "      <td>1274329000000</td>\n",
       "    </tr>\n",
       "    <tr>\n",
       "      <th>2</th>\n",
       "      <td>2005</td>\n",
       "      <td>NaN</td>\n",
       "      <td>30.960957</td>\n",
       "      <td>27.46934</td>\n",
       "      <td>5.314364</td>\n",
       "      <td>NaN</td>\n",
       "      <td>NaN</td>\n",
       "      <td>2.663224e+09</td>\n",
       "      <td>2.739229</td>\n",
       "      <td>3.045012</td>\n",
       "      <td>58.237838</td>\n",
       "      <td>1.482691</td>\n",
       "      <td>5.906666</td>\n",
       "      <td>1.873790e+10</td>\n",
       "      <td>110.429285</td>\n",
       "      <td>1415725000000</td>\n",
       "    </tr>\n",
       "    <tr>\n",
       "      <th>3</th>\n",
       "      <td>2006</td>\n",
       "      <td>21.67777</td>\n",
       "      <td>40.938290</td>\n",
       "      <td>25.08140</td>\n",
       "      <td>5.873449</td>\n",
       "      <td>NaN</td>\n",
       "      <td>NaN</td>\n",
       "      <td>2.764089e+09</td>\n",
       "      <td>2.757907</td>\n",
       "      <td>3.576204</td>\n",
       "      <td>71.941278</td>\n",
       "      <td>1.458456</td>\n",
       "      <td>6.472494</td>\n",
       "      <td>2.582552e+10</td>\n",
       "      <td>109.212364</td>\n",
       "      <td>1862041000000</td>\n",
       "    </tr>\n",
       "    <tr>\n",
       "      <th>4</th>\n",
       "      <td>2007</td>\n",
       "      <td>NaN</td>\n",
       "      <td>50.321873</td>\n",
       "      <td>NaN</td>\n",
       "      <td>5.997067</td>\n",
       "      <td>NaN</td>\n",
       "      <td>NaN</td>\n",
       "      <td>2.968119e+09</td>\n",
       "      <td>2.768560</td>\n",
       "      <td>3.933078</td>\n",
       "      <td>77.789734</td>\n",
       "      <td>1.556385</td>\n",
       "      <td>6.850730</td>\n",
       "      <td>3.195820e+10</td>\n",
       "      <td>109.941251</td>\n",
       "      <td>2151349000000</td>\n",
       "    </tr>\n",
       "  </tbody>\n",
       "</table>\n",
       "</div>"
      ],
      "text/plain": [
       "   ano_coleta  despesas_educ_percent  despesas_saude_per_capita  \\\n",
       "0        2003               20.85074                  25.437891   \n",
       "1        2004               23.40954                  27.526983   \n",
       "2        2005                    NaN                  30.960957   \n",
       "3        2006               21.67777                  40.938290   \n",
       "4        2007                    NaN                  50.321873   \n",
       "\n",
       "   despesas_educ_total  despesas_saude_%pib  receita_trib_%pib  \\\n",
       "0             24.98009             5.169123                NaN   \n",
       "1             26.66815             5.344949                NaN   \n",
       "2             27.46934             5.314364                NaN   \n",
       "3             25.08140             5.873449                NaN   \n",
       "4                  NaN             5.997067                NaN   \n",
       "\n",
       "   receita_excl_doa_%pib    ibrd_e_ida  pop_cresc_anual%  \\\n",
       "0                    NaN  2.741964e+09          2.709600   \n",
       "1                    NaN  2.882726e+09          2.720796   \n",
       "2                    NaN  2.663224e+09          2.739229   \n",
       "3                    NaN  2.764089e+09          2.757907   \n",
       "4                    NaN  2.968119e+09          2.768560   \n",
       "\n",
       "   pib_cresc_per_capita_%pib  pib_deflator   domestic_saude_despesas_%pib  \\\n",
       "0                   0.180864      51.824235                      1.488423   \n",
       "1                   2.283178      55.517666                      1.416008   \n",
       "2                   3.045012      58.237838                      1.482691   \n",
       "3                   3.576204      71.941278                      1.458456   \n",
       "4                   3.933078      77.789734                      1.556385   \n",
       "\n",
       "   pib_cresc_anual%   pib_cor_us$  despesa_nac_bruta_%pib  pib_moeda_local  \n",
       "0          2.932476  1.490452e+10              111.732648    1131782000000  \n",
       "1          5.104300  1.609534e+10              110.347249    1274329000000  \n",
       "2          5.906666  1.873790e+10              110.429285    1415725000000  \n",
       "3          6.472494  2.582552e+10              109.212364    1862041000000  \n",
       "4          6.850730  3.195820e+10              109.941251    2151349000000  "
      ]
     },
     "execution_count": 6,
     "metadata": {},
     "output_type": "execute_result"
    }
   ],
   "source": [
    "# Visualiza os dados - os primeiros da tabela\n",
    "dados_egov.head()"
   ]
  },
  {
   "cell_type": "markdown",
   "id": "b4cafc66",
   "metadata": {},
   "source": [
    "# Análise Exploratória "
   ]
  },
  {
   "cell_type": "code",
   "execution_count": 7,
   "id": "047dce97",
   "metadata": {},
   "outputs": [
    {
     "data": {
      "text/plain": [
       "ano_coleta                        int64\n",
       "despesas_educ_percent           float64\n",
       "despesas_saude_per_capita       float64\n",
       "despesas_educ_total             float64\n",
       "despesas_saude_%pib             float64\n",
       "receita_trib_%pib               float64\n",
       "receita_excl_doa_%pib           float64\n",
       "ibrd_e_ida                      float64\n",
       "pop_cresc_anual%                float64\n",
       "pib_cresc_per_capita_%pib       float64\n",
       "pib_deflator                    float64\n",
       "domestic_saude_despesas_%pib    float64\n",
       "pib_cresc_anual%                float64\n",
       "pib_cor_us$                     float64\n",
       "despesa_nac_bruta_%pib          float64\n",
       "pib_moeda_local                   int64\n",
       "dtype: object"
      ]
     },
     "execution_count": 7,
     "metadata": {},
     "output_type": "execute_result"
    }
   ],
   "source": [
    "# Tipos de dados\n",
    "dados_egov.dtypes"
   ]
  },
  {
   "cell_type": "code",
   "execution_count": 8,
   "id": "af5e2a21",
   "metadata": {},
   "outputs": [
    {
     "data": {
      "text/html": [
       "<div>\n",
       "<style scoped>\n",
       "    .dataframe tbody tr th:only-of-type {\n",
       "        vertical-align: middle;\n",
       "    }\n",
       "\n",
       "    .dataframe tbody tr th {\n",
       "        vertical-align: top;\n",
       "    }\n",
       "\n",
       "    .dataframe thead th {\n",
       "        text-align: right;\n",
       "    }\n",
       "</style>\n",
       "<table border=\"1\" class=\"dataframe\">\n",
       "  <thead>\n",
       "    <tr style=\"text-align: right;\">\n",
       "      <th></th>\n",
       "      <th>ano_coleta</th>\n",
       "      <th>despesas_educ_percent</th>\n",
       "      <th>despesas_saude_per_capita</th>\n",
       "      <th>despesas_educ_total</th>\n",
       "      <th>despesas_saude_%pib</th>\n",
       "      <th>receita_trib_%pib</th>\n",
       "      <th>receita_excl_doa_%pib</th>\n",
       "      <th>ibrd_e_ida</th>\n",
       "      <th>pop_cresc_anual%</th>\n",
       "      <th>pib_cresc_per_capita_%pib</th>\n",
       "      <th>pib_deflator</th>\n",
       "      <th>domestic_saude_despesas_%pib</th>\n",
       "      <th>pib_cresc_anual%</th>\n",
       "      <th>pib_cor_us$</th>\n",
       "      <th>despesa_nac_bruta_%pib</th>\n",
       "      <th>pib_moeda_local</th>\n",
       "    </tr>\n",
       "  </thead>\n",
       "  <tbody>\n",
       "    <tr>\n",
       "      <th>count</th>\n",
       "      <td>17.000000</td>\n",
       "      <td>8.000000</td>\n",
       "      <td>15.000000</td>\n",
       "      <td>13.000000</td>\n",
       "      <td>15.000000</td>\n",
       "      <td>5.000000</td>\n",
       "      <td>5.000000</td>\n",
       "      <td>1.600000e+01</td>\n",
       "      <td>17.000000</td>\n",
       "      <td>17.000000</td>\n",
       "      <td>17.000000</td>\n",
       "      <td>15.000000</td>\n",
       "      <td>17.000000</td>\n",
       "      <td>1.700000e+01</td>\n",
       "      <td>17.000000</td>\n",
       "      <td>1.700000e+01</td>\n",
       "    </tr>\n",
       "    <tr>\n",
       "      <th>mean</th>\n",
       "      <td>2011.000000</td>\n",
       "      <td>34.776599</td>\n",
       "      <td>55.265036</td>\n",
       "      <td>20.844645</td>\n",
       "      <td>5.555868</td>\n",
       "      <td>16.008023</td>\n",
       "      <td>21.028661</td>\n",
       "      <td>3.667159e+09</td>\n",
       "      <td>2.606996</td>\n",
       "      <td>2.539702</td>\n",
       "      <td>117.186747</td>\n",
       "      <td>1.754343</td>\n",
       "      <td>5.247425</td>\n",
       "      <td>4.851720e+10</td>\n",
       "      <td>112.318030</td>\n",
       "      <td>4.387753e+12</td>\n",
       "    </tr>\n",
       "    <tr>\n",
       "      <th>std</th>\n",
       "      <td>5.049752</td>\n",
       "      <td>10.632141</td>\n",
       "      <td>17.077696</td>\n",
       "      <td>3.828826</td>\n",
       "      <td>0.412144</td>\n",
       "      <td>0.677579</td>\n",
       "      <td>0.944677</td>\n",
       "      <td>9.532678e+08</td>\n",
       "      <td>0.172462</td>\n",
       "      <td>1.798253</td>\n",
       "      <td>46.934509</td>\n",
       "      <td>0.249802</td>\n",
       "      <td>1.809246</td>\n",
       "      <td>2.477595e+10</td>\n",
       "      <td>2.112360</td>\n",
       "      <td>2.776122e+12</td>\n",
       "    </tr>\n",
       "    <tr>\n",
       "      <th>min</th>\n",
       "      <td>2003.000000</td>\n",
       "      <td>20.850740</td>\n",
       "      <td>25.437891</td>\n",
       "      <td>16.664660</td>\n",
       "      <td>4.802543</td>\n",
       "      <td>15.085142</td>\n",
       "      <td>19.620423</td>\n",
       "      <td>2.663224e+09</td>\n",
       "      <td>2.271902</td>\n",
       "      <td>-2.503373</td>\n",
       "      <td>51.824235</td>\n",
       "      <td>1.416008</td>\n",
       "      <td>0.232283</td>\n",
       "      <td>1.490452e+10</td>\n",
       "      <td>109.212364</td>\n",
       "      <td>1.131782e+12</td>\n",
       "    </tr>\n",
       "    <tr>\n",
       "      <th>25%</th>\n",
       "      <td>2007.000000</td>\n",
       "      <td>22.976598</td>\n",
       "      <td>45.630081</td>\n",
       "      <td>17.708700</td>\n",
       "      <td>5.266875</td>\n",
       "      <td>15.637825</td>\n",
       "      <td>20.616187</td>\n",
       "      <td>2.946771e+09</td>\n",
       "      <td>2.491937</td>\n",
       "      <td>2.283178</td>\n",
       "      <td>77.789734</td>\n",
       "      <td>1.522404</td>\n",
       "      <td>4.805697</td>\n",
       "      <td>3.195820e+10</td>\n",
       "      <td>110.429285</td>\n",
       "      <td>2.151349e+12</td>\n",
       "    </tr>\n",
       "    <tr>\n",
       "      <th>50%</th>\n",
       "      <td>2011.000000</td>\n",
       "      <td>41.763410</td>\n",
       "      <td>57.387424</td>\n",
       "      <td>19.252830</td>\n",
       "      <td>5.519421</td>\n",
       "      <td>16.183533</td>\n",
       "      <td>21.199592</td>\n",
       "      <td>3.313021e+09</td>\n",
       "      <td>2.693733</td>\n",
       "      <td>3.045012</td>\n",
       "      <td>113.111372</td>\n",
       "      <td>1.771546</td>\n",
       "      <td>5.718507</td>\n",
       "      <td>4.195343e+10</td>\n",
       "      <td>112.164729</td>\n",
       "      <td>3.725918e+12</td>\n",
       "    </tr>\n",
       "    <tr>\n",
       "      <th>75%</th>\n",
       "      <td>2015.000000</td>\n",
       "      <td>42.682555</td>\n",
       "      <td>69.282478</td>\n",
       "      <td>24.980090</td>\n",
       "      <td>5.935258</td>\n",
       "      <td>16.256635</td>\n",
       "      <td>21.738908</td>\n",
       "      <td>4.244785e+09</td>\n",
       "      <td>2.739229</td>\n",
       "      <td>3.346252</td>\n",
       "      <td>154.710423</td>\n",
       "      <td>1.950641</td>\n",
       "      <td>6.108264</td>\n",
       "      <td>6.400775e+10</td>\n",
       "      <td>114.066709</td>\n",
       "      <td>6.284185e+12</td>\n",
       "    </tr>\n",
       "    <tr>\n",
       "      <th>max</th>\n",
       "      <td>2019.000000</td>\n",
       "      <td>43.124180</td>\n",
       "      <td>76.610321</td>\n",
       "      <td>27.469340</td>\n",
       "      <td>6.116753</td>\n",
       "      <td>16.876979</td>\n",
       "      <td>21.968194</td>\n",
       "      <td>5.801797e+09</td>\n",
       "      <td>2.768560</td>\n",
       "      <td>5.494077</td>\n",
       "      <td>192.904792</td>\n",
       "      <td>2.148430</td>\n",
       "      <td>8.405699</td>\n",
       "      <td>9.550309e+10</td>\n",
       "      <td>116.218812</td>\n",
       "      <td>9.740360e+12</td>\n",
       "    </tr>\n",
       "  </tbody>\n",
       "</table>\n",
       "</div>"
      ],
      "text/plain": [
       "        ano_coleta  despesas_educ_percent  despesas_saude_per_capita  \\\n",
       "count    17.000000               8.000000                  15.000000   \n",
       "mean   2011.000000              34.776599                  55.265036   \n",
       "std       5.049752              10.632141                  17.077696   \n",
       "min    2003.000000              20.850740                  25.437891   \n",
       "25%    2007.000000              22.976598                  45.630081   \n",
       "50%    2011.000000              41.763410                  57.387424   \n",
       "75%    2015.000000              42.682555                  69.282478   \n",
       "max    2019.000000              43.124180                  76.610321   \n",
       "\n",
       "       despesas_educ_total  despesas_saude_%pib  receita_trib_%pib  \\\n",
       "count            13.000000            15.000000           5.000000   \n",
       "mean             20.844645             5.555868          16.008023   \n",
       "std               3.828826             0.412144           0.677579   \n",
       "min              16.664660             4.802543          15.085142   \n",
       "25%              17.708700             5.266875          15.637825   \n",
       "50%              19.252830             5.519421          16.183533   \n",
       "75%              24.980090             5.935258          16.256635   \n",
       "max              27.469340             6.116753          16.876979   \n",
       "\n",
       "       receita_excl_doa_%pib    ibrd_e_ida  pop_cresc_anual%  \\\n",
       "count               5.000000  1.600000e+01         17.000000   \n",
       "mean               21.028661  3.667159e+09          2.606996   \n",
       "std                 0.944677  9.532678e+08          0.172462   \n",
       "min                19.620423  2.663224e+09          2.271902   \n",
       "25%                20.616187  2.946771e+09          2.491937   \n",
       "50%                21.199592  3.313021e+09          2.693733   \n",
       "75%                21.738908  4.244785e+09          2.739229   \n",
       "max                21.968194  5.801797e+09          2.768560   \n",
       "\n",
       "       pib_cresc_per_capita_%pib  pib_deflator   domestic_saude_despesas_%pib  \\\n",
       "count                  17.000000      17.000000                     15.000000   \n",
       "mean                    2.539702     117.186747                      1.754343   \n",
       "std                     1.798253      46.934509                      0.249802   \n",
       "min                    -2.503373      51.824235                      1.416008   \n",
       "25%                     2.283178      77.789734                      1.522404   \n",
       "50%                     3.045012     113.111372                      1.771546   \n",
       "75%                     3.346252     154.710423                      1.950641   \n",
       "max                     5.494077     192.904792                      2.148430   \n",
       "\n",
       "       pib_cresc_anual%   pib_cor_us$  despesa_nac_bruta_%pib  pib_moeda_local  \n",
       "count         17.000000  1.700000e+01               17.000000     1.700000e+01  \n",
       "mean           5.247425  4.851720e+10              112.318030     4.387753e+12  \n",
       "std            1.809246  2.477595e+10                2.112360     2.776122e+12  \n",
       "min            0.232283  1.490452e+10              109.212364     1.131782e+12  \n",
       "25%            4.805697  3.195820e+10              110.429285     2.151349e+12  \n",
       "50%            5.718507  4.195343e+10              112.164729     3.725918e+12  \n",
       "75%            6.108264  6.400775e+10              114.066709     6.284185e+12  \n",
       "max            8.405699  9.550309e+10              116.218812     9.740360e+12  "
      ]
     },
     "execution_count": 8,
     "metadata": {},
     "output_type": "execute_result"
    }
   ],
   "source": [
    "# Resumo estatístico \n",
    "dados_egov.describe()"
   ]
  },
  {
   "cell_type": "code",
   "execution_count": 9,
   "id": "4a4237bc",
   "metadata": {},
   "outputs": [
    {
     "data": {
      "text/plain": [
       "ano_coleta                       0\n",
       "despesas_educ_percent            9\n",
       "despesas_saude_per_capita        2\n",
       "despesas_educ_total              4\n",
       "despesas_saude_%pib              2\n",
       "receita_trib_%pib               12\n",
       "receita_excl_doa_%pib           12\n",
       "ibrd_e_ida                       1\n",
       "pop_cresc_anual%                 0\n",
       "pib_cresc_per_capita_%pib        0\n",
       "pib_deflator                     0\n",
       "domestic_saude_despesas_%pib     2\n",
       "pib_cresc_anual%                 0\n",
       "pib_cor_us$                      0\n",
       "despesa_nac_bruta_%pib           0\n",
       "pib_moeda_local                  0\n",
       "dtype: int64"
      ]
     },
     "execution_count": 9,
     "metadata": {},
     "output_type": "execute_result"
    }
   ],
   "source": [
    "# Verificando se há valores ausentes\n",
    "dados_egov.isnull().sum()"
   ]
  },
  {
   "cell_type": "markdown",
   "id": "1309bf3f",
   "metadata": {},
   "source": [
    "# Limpeza e Processamento dos Dados\n",
    "O que fazer nesta etapa ?"
   ]
  },
  {
   "cell_type": "markdown",
   "id": "00e90844",
   "metadata": {},
   "source": [
    "### Tratamento de Valores Ausentes com Backfilling e Interpolação"
   ]
  },
  {
   "cell_type": "code",
   "execution_count": 10,
   "id": "0da2ebac",
   "metadata": {},
   "outputs": [],
   "source": [
    "# Limpeza valores  ausentes através de backfilling e interpolação\n",
    "# inplace = True - Ele vai gravar no dataframe\n",
    "\n",
    "dados_egov['receita_trib_%pib'].fillna(method = 'bfill', inplace = True)\n",
    "dados_egov['receita_excl_doa_%pib'].fillna(method = 'bfill', inplace = True)\n",
    "dados_egov = dados_egov.interpolate()"
   ]
  },
  {
   "cell_type": "markdown",
   "id": "6e16571e",
   "metadata": {},
   "source": [
    "_Justificativa das minhas decisões acima, com base na minha experiência e compreensão do negócio_\n",
    "\n",
    "Como nas colunas **receita_trib_%pib** e coluna **receita_excl_doa_%pib**, há diversos campos em brancos, eu preciso aplicar uma maneira para resolver este problema.\n",
    "\n",
    "    - 1 - Não posso apagar as linhas em branco, pois há muitas linhas e isso reduzirá drasticamente meu dataset \n",
    "    - 2 - Outro opção é nessas duas colunas é aplicar o metodo bfill que preenche esses campos/linhas em branco e aplico o inplace = True para salvar no dataframe, ou seja para eu lá no final salvar um novo arquivo já com essas alterações feitas ao invés de salvar apenas em memória durante o processo de limpeza e tratamento dos dados\n",
    "    \n",
    "Paras as demais colunas, onde a quantidade de campos em branco é pequena, eu irei aplicar a interpolação.\n",
    "\n",
    "    - 1 - Interpolação, ou seja, calcular a média dos valores e preencher os valores ausentes "
   ]
  },
  {
   "cell_type": "code",
   "execution_count": 11,
   "id": "f425edf4",
   "metadata": {},
   "outputs": [
    {
     "data": {
      "text/plain": [
       "ano_coleta                      0\n",
       "despesas_educ_percent           0\n",
       "despesas_saude_per_capita       0\n",
       "despesas_educ_total             0\n",
       "despesas_saude_%pib             0\n",
       "receita_trib_%pib               0\n",
       "receita_excl_doa_%pib           0\n",
       "ibrd_e_ida                      0\n",
       "pop_cresc_anual%                0\n",
       "pib_cresc_per_capita_%pib       0\n",
       "pib_deflator                    0\n",
       "domestic_saude_despesas_%pib    0\n",
       "pib_cresc_anual%                0\n",
       "pib_cor_us$                     0\n",
       "despesa_nac_bruta_%pib          0\n",
       "pib_moeda_local                 0\n",
       "dtype: int64"
      ]
     },
     "execution_count": 11,
     "metadata": {},
     "output_type": "execute_result"
    }
   ],
   "source": [
    "# Verificar os valores Ausentes\n",
    "dados_egov.isnull().sum()"
   ]
  },
  {
   "cell_type": "code",
   "execution_count": 12,
   "id": "c2cbab97",
   "metadata": {},
   "outputs": [
    {
     "data": {
      "text/plain": [
       "(17, 16)"
      ]
     },
     "execution_count": 12,
     "metadata": {},
     "output_type": "execute_result"
    }
   ],
   "source": [
    "# O formato do dataframe - Linhas e Colunas\n",
    "dados_egov.shape"
   ]
  },
  {
   "cell_type": "code",
   "execution_count": 13,
   "id": "b221650c",
   "metadata": {},
   "outputs": [],
   "source": [
    "# Vamos remover a coluna gdp em US$ uma vez que já temos na moeda local.\n",
    "dados_egov = dados_egov.drop(columns = ['pib_cor_us$'])"
   ]
  },
  {
   "cell_type": "code",
   "execution_count": 14,
   "id": "836c23e3",
   "metadata": {},
   "outputs": [
    {
     "data": {
      "text/plain": [
       "(17, 15)"
      ]
     },
     "execution_count": 14,
     "metadata": {},
     "output_type": "execute_result"
    }
   ],
   "source": [
    "# Visualiza o formato pra ver se apagaou a coluna\n",
    "dados_egov.shape"
   ]
  },
  {
   "cell_type": "code",
   "execution_count": 15,
   "id": "f06a4ea7",
   "metadata": {},
   "outputs": [],
   "source": [
    "# Arredondamos os valores das colunas decimais para 4 casas decimais\n",
    "dados_egov = dados_egov.round(4)"
   ]
  },
  {
   "cell_type": "markdown",
   "id": "766634b3",
   "metadata": {},
   "source": [
    "Padronizar os valores, para 4 casas decimais, para facilitar a criação dos gráficos, facilitar os cálculos. Caso senha necessário trabalhar com a precisão máxima é só não arredondar as casas decimais "
   ]
  },
  {
   "cell_type": "code",
   "execution_count": 16,
   "id": "c4e1be08",
   "metadata": {},
   "outputs": [
    {
     "data": {
      "text/html": [
       "<div>\n",
       "<style scoped>\n",
       "    .dataframe tbody tr th:only-of-type {\n",
       "        vertical-align: middle;\n",
       "    }\n",
       "\n",
       "    .dataframe tbody tr th {\n",
       "        vertical-align: top;\n",
       "    }\n",
       "\n",
       "    .dataframe thead th {\n",
       "        text-align: right;\n",
       "    }\n",
       "</style>\n",
       "<table border=\"1\" class=\"dataframe\">\n",
       "  <thead>\n",
       "    <tr style=\"text-align: right;\">\n",
       "      <th></th>\n",
       "      <th>ano_coleta</th>\n",
       "      <th>despesas_educ_percent</th>\n",
       "      <th>despesas_saude_per_capita</th>\n",
       "      <th>despesas_educ_total</th>\n",
       "      <th>despesas_saude_%pib</th>\n",
       "      <th>receita_trib_%pib</th>\n",
       "      <th>receita_excl_doa_%pib</th>\n",
       "      <th>ibrd_e_ida</th>\n",
       "      <th>pop_cresc_anual%</th>\n",
       "      <th>pib_cresc_per_capita_%pib</th>\n",
       "      <th>pib_deflator</th>\n",
       "      <th>domestic_saude_despesas_%pib</th>\n",
       "      <th>pib_cresc_anual%</th>\n",
       "      <th>despesa_nac_bruta_%pib</th>\n",
       "      <th>pib_moeda_local</th>\n",
       "    </tr>\n",
       "  </thead>\n",
       "  <tbody>\n",
       "    <tr>\n",
       "      <th>0</th>\n",
       "      <td>2003</td>\n",
       "      <td>20.8507</td>\n",
       "      <td>25.4379</td>\n",
       "      <td>24.9801</td>\n",
       "      <td>5.1691</td>\n",
       "      <td>16.877</td>\n",
       "      <td>21.7389</td>\n",
       "      <td>2.741964e+09</td>\n",
       "      <td>2.7096</td>\n",
       "      <td>0.1809</td>\n",
       "      <td>51.8242</td>\n",
       "      <td>1.4884</td>\n",
       "      <td>2.9325</td>\n",
       "      <td>111.7326</td>\n",
       "      <td>1131782000000</td>\n",
       "    </tr>\n",
       "    <tr>\n",
       "      <th>1</th>\n",
       "      <td>2004</td>\n",
       "      <td>23.4095</td>\n",
       "      <td>27.5270</td>\n",
       "      <td>26.6682</td>\n",
       "      <td>5.3449</td>\n",
       "      <td>16.877</td>\n",
       "      <td>21.7389</td>\n",
       "      <td>2.882726e+09</td>\n",
       "      <td>2.7208</td>\n",
       "      <td>2.2832</td>\n",
       "      <td>55.5177</td>\n",
       "      <td>1.4160</td>\n",
       "      <td>5.1043</td>\n",
       "      <td>110.3472</td>\n",
       "      <td>1274329000000</td>\n",
       "    </tr>\n",
       "    <tr>\n",
       "      <th>2</th>\n",
       "      <td>2005</td>\n",
       "      <td>22.5437</td>\n",
       "      <td>30.9610</td>\n",
       "      <td>27.4693</td>\n",
       "      <td>5.3144</td>\n",
       "      <td>16.877</td>\n",
       "      <td>21.7389</td>\n",
       "      <td>2.663224e+09</td>\n",
       "      <td>2.7392</td>\n",
       "      <td>3.0450</td>\n",
       "      <td>58.2378</td>\n",
       "      <td>1.4827</td>\n",
       "      <td>5.9067</td>\n",
       "      <td>110.4293</td>\n",
       "      <td>1415725000000</td>\n",
       "    </tr>\n",
       "    <tr>\n",
       "      <th>3</th>\n",
       "      <td>2006</td>\n",
       "      <td>21.6778</td>\n",
       "      <td>40.9383</td>\n",
       "      <td>25.0814</td>\n",
       "      <td>5.8734</td>\n",
       "      <td>16.877</td>\n",
       "      <td>21.7389</td>\n",
       "      <td>2.764089e+09</td>\n",
       "      <td>2.7579</td>\n",
       "      <td>3.5762</td>\n",
       "      <td>71.9413</td>\n",
       "      <td>1.4585</td>\n",
       "      <td>6.4725</td>\n",
       "      <td>109.2124</td>\n",
       "      <td>1862041000000</td>\n",
       "    </tr>\n",
       "    <tr>\n",
       "      <th>4</th>\n",
       "      <td>2007</td>\n",
       "      <td>25.8529</td>\n",
       "      <td>50.3219</td>\n",
       "      <td>23.9500</td>\n",
       "      <td>5.9971</td>\n",
       "      <td>16.877</td>\n",
       "      <td>21.7389</td>\n",
       "      <td>2.968119e+09</td>\n",
       "      <td>2.7686</td>\n",
       "      <td>3.9331</td>\n",
       "      <td>77.7897</td>\n",
       "      <td>1.5564</td>\n",
       "      <td>6.8507</td>\n",
       "      <td>109.9413</td>\n",
       "      <td>2151349000000</td>\n",
       "    </tr>\n",
       "  </tbody>\n",
       "</table>\n",
       "</div>"
      ],
      "text/plain": [
       "   ano_coleta  despesas_educ_percent  despesas_saude_per_capita  \\\n",
       "0        2003                20.8507                    25.4379   \n",
       "1        2004                23.4095                    27.5270   \n",
       "2        2005                22.5437                    30.9610   \n",
       "3        2006                21.6778                    40.9383   \n",
       "4        2007                25.8529                    50.3219   \n",
       "\n",
       "   despesas_educ_total  despesas_saude_%pib  receita_trib_%pib  \\\n",
       "0              24.9801               5.1691             16.877   \n",
       "1              26.6682               5.3449             16.877   \n",
       "2              27.4693               5.3144             16.877   \n",
       "3              25.0814               5.8734             16.877   \n",
       "4              23.9500               5.9971             16.877   \n",
       "\n",
       "   receita_excl_doa_%pib    ibrd_e_ida  pop_cresc_anual%  \\\n",
       "0                21.7389  2.741964e+09            2.7096   \n",
       "1                21.7389  2.882726e+09            2.7208   \n",
       "2                21.7389  2.663224e+09            2.7392   \n",
       "3                21.7389  2.764089e+09            2.7579   \n",
       "4                21.7389  2.968119e+09            2.7686   \n",
       "\n",
       "   pib_cresc_per_capita_%pib  pib_deflator   domestic_saude_despesas_%pib  \\\n",
       "0                     0.1809        51.8242                        1.4884   \n",
       "1                     2.2832        55.5177                        1.4160   \n",
       "2                     3.0450        58.2378                        1.4827   \n",
       "3                     3.5762        71.9413                        1.4585   \n",
       "4                     3.9331        77.7897                        1.5564   \n",
       "\n",
       "   pib_cresc_anual%  despesa_nac_bruta_%pib  pib_moeda_local  \n",
       "0            2.9325                111.7326    1131782000000  \n",
       "1            5.1043                110.3472    1274329000000  \n",
       "2            5.9067                110.4293    1415725000000  \n",
       "3            6.4725                109.2124    1862041000000  \n",
       "4            6.8507                109.9413    2151349000000  "
      ]
     },
     "execution_count": 16,
     "metadata": {},
     "output_type": "execute_result"
    }
   ],
   "source": [
    "# Visualiza os dados \n",
    "dados_egov.head()"
   ]
  },
  {
   "cell_type": "code",
   "execution_count": 17,
   "id": "75b424d3",
   "metadata": {},
   "outputs": [],
   "source": [
    "# Salvar o dataset limpo\n",
    "dados_egov.to_csv('dados/dataset_limpo.csv', index = False)"
   ]
  },
  {
   "cell_type": "markdown",
   "id": "d3c33be1",
   "metadata": {},
   "source": [
    "# Análise de Dados"
   ]
  },
  {
   "cell_type": "code",
   "execution_count": 18,
   "id": "4c64a582",
   "metadata": {},
   "outputs": [],
   "source": [
    "# Carregando o dataset limpo\n",
    "df = pd.read_csv('dados/dataset_limpo.csv')"
   ]
  },
  {
   "cell_type": "markdown",
   "id": "da8731dd",
   "metadata": {},
   "source": [
    "## <font color = 'red'> 1- Em Que Ano o País Teve um Alto Crescimento do PIB Per Capita ?<font>"
   ]
  },
  {
   "cell_type": "code",
   "execution_count": 19,
   "id": "cf90be43",
   "metadata": {},
   "outputs": [
    {
     "data": {
      "text/html": [
       "<div>\n",
       "<style scoped>\n",
       "    .dataframe tbody tr th:only-of-type {\n",
       "        vertical-align: middle;\n",
       "    }\n",
       "\n",
       "    .dataframe tbody tr th {\n",
       "        vertical-align: top;\n",
       "    }\n",
       "\n",
       "    .dataframe thead th {\n",
       "        text-align: right;\n",
       "    }\n",
       "</style>\n",
       "<table border=\"1\" class=\"dataframe\">\n",
       "  <thead>\n",
       "    <tr style=\"text-align: right;\">\n",
       "      <th></th>\n",
       "      <th>ano_coleta</th>\n",
       "      <th>despesas_educ_percent</th>\n",
       "      <th>despesas_saude_per_capita</th>\n",
       "      <th>despesas_educ_total</th>\n",
       "      <th>despesas_saude_%pib</th>\n",
       "      <th>receita_trib_%pib</th>\n",
       "      <th>receita_excl_doa_%pib</th>\n",
       "      <th>ibrd_e_ida</th>\n",
       "      <th>pop_cresc_anual%</th>\n",
       "      <th>pib_cresc_per_capita_%pib</th>\n",
       "      <th>pib_deflator</th>\n",
       "      <th>domestic_saude_despesas_%pib</th>\n",
       "      <th>pib_cresc_anual%</th>\n",
       "      <th>despesa_nac_bruta_%pib</th>\n",
       "      <th>pib_moeda_local</th>\n",
       "    </tr>\n",
       "  </thead>\n",
       "  <tbody>\n",
       "    <tr>\n",
       "      <th>0</th>\n",
       "      <td>2003</td>\n",
       "      <td>20.8507</td>\n",
       "      <td>25.4379</td>\n",
       "      <td>24.9801</td>\n",
       "      <td>5.1691</td>\n",
       "      <td>16.877</td>\n",
       "      <td>21.7389</td>\n",
       "      <td>2.741964e+09</td>\n",
       "      <td>2.7096</td>\n",
       "      <td>0.1809</td>\n",
       "      <td>51.8242</td>\n",
       "      <td>1.4884</td>\n",
       "      <td>2.9325</td>\n",
       "      <td>111.7326</td>\n",
       "      <td>1131782000000</td>\n",
       "    </tr>\n",
       "    <tr>\n",
       "      <th>1</th>\n",
       "      <td>2004</td>\n",
       "      <td>23.4095</td>\n",
       "      <td>27.5270</td>\n",
       "      <td>26.6682</td>\n",
       "      <td>5.3449</td>\n",
       "      <td>16.877</td>\n",
       "      <td>21.7389</td>\n",
       "      <td>2.882726e+09</td>\n",
       "      <td>2.7208</td>\n",
       "      <td>2.2832</td>\n",
       "      <td>55.5177</td>\n",
       "      <td>1.4160</td>\n",
       "      <td>5.1043</td>\n",
       "      <td>110.3472</td>\n",
       "      <td>1274329000000</td>\n",
       "    </tr>\n",
       "    <tr>\n",
       "      <th>2</th>\n",
       "      <td>2005</td>\n",
       "      <td>22.5437</td>\n",
       "      <td>30.9610</td>\n",
       "      <td>27.4693</td>\n",
       "      <td>5.3144</td>\n",
       "      <td>16.877</td>\n",
       "      <td>21.7389</td>\n",
       "      <td>2.663224e+09</td>\n",
       "      <td>2.7392</td>\n",
       "      <td>3.0450</td>\n",
       "      <td>58.2378</td>\n",
       "      <td>1.4827</td>\n",
       "      <td>5.9067</td>\n",
       "      <td>110.4293</td>\n",
       "      <td>1415725000000</td>\n",
       "    </tr>\n",
       "    <tr>\n",
       "      <th>3</th>\n",
       "      <td>2006</td>\n",
       "      <td>21.6778</td>\n",
       "      <td>40.9383</td>\n",
       "      <td>25.0814</td>\n",
       "      <td>5.8734</td>\n",
       "      <td>16.877</td>\n",
       "      <td>21.7389</td>\n",
       "      <td>2.764089e+09</td>\n",
       "      <td>2.7579</td>\n",
       "      <td>3.5762</td>\n",
       "      <td>71.9413</td>\n",
       "      <td>1.4585</td>\n",
       "      <td>6.4725</td>\n",
       "      <td>109.2124</td>\n",
       "      <td>1862041000000</td>\n",
       "    </tr>\n",
       "    <tr>\n",
       "      <th>4</th>\n",
       "      <td>2007</td>\n",
       "      <td>25.8529</td>\n",
       "      <td>50.3219</td>\n",
       "      <td>23.9500</td>\n",
       "      <td>5.9971</td>\n",
       "      <td>16.877</td>\n",
       "      <td>21.7389</td>\n",
       "      <td>2.968119e+09</td>\n",
       "      <td>2.7686</td>\n",
       "      <td>3.9331</td>\n",
       "      <td>77.7897</td>\n",
       "      <td>1.5564</td>\n",
       "      <td>6.8507</td>\n",
       "      <td>109.9413</td>\n",
       "      <td>2151349000000</td>\n",
       "    </tr>\n",
       "  </tbody>\n",
       "</table>\n",
       "</div>"
      ],
      "text/plain": [
       "   ano_coleta  despesas_educ_percent  despesas_saude_per_capita  \\\n",
       "0        2003                20.8507                    25.4379   \n",
       "1        2004                23.4095                    27.5270   \n",
       "2        2005                22.5437                    30.9610   \n",
       "3        2006                21.6778                    40.9383   \n",
       "4        2007                25.8529                    50.3219   \n",
       "\n",
       "   despesas_educ_total  despesas_saude_%pib  receita_trib_%pib  \\\n",
       "0              24.9801               5.1691             16.877   \n",
       "1              26.6682               5.3449             16.877   \n",
       "2              27.4693               5.3144             16.877   \n",
       "3              25.0814               5.8734             16.877   \n",
       "4              23.9500               5.9971             16.877   \n",
       "\n",
       "   receita_excl_doa_%pib    ibrd_e_ida  pop_cresc_anual%  \\\n",
       "0                21.7389  2.741964e+09            2.7096   \n",
       "1                21.7389  2.882726e+09            2.7208   \n",
       "2                21.7389  2.663224e+09            2.7392   \n",
       "3                21.7389  2.764089e+09            2.7579   \n",
       "4                21.7389  2.968119e+09            2.7686   \n",
       "\n",
       "   pib_cresc_per_capita_%pib  pib_deflator   domestic_saude_despesas_%pib  \\\n",
       "0                     0.1809        51.8242                        1.4884   \n",
       "1                     2.2832        55.5177                        1.4160   \n",
       "2                     3.0450        58.2378                        1.4827   \n",
       "3                     3.5762        71.9413                        1.4585   \n",
       "4                     3.9331        77.7897                        1.5564   \n",
       "\n",
       "   pib_cresc_anual%  despesa_nac_bruta_%pib  pib_moeda_local  \n",
       "0            2.9325                111.7326    1131782000000  \n",
       "1            5.1043                110.3472    1274329000000  \n",
       "2            5.9067                110.4293    1415725000000  \n",
       "3            6.4725                109.2124    1862041000000  \n",
       "4            6.8507                109.9413    2151349000000  "
      ]
     },
     "execution_count": 19,
     "metadata": {},
     "output_type": "execute_result"
    }
   ],
   "source": [
    "# Visualiza os primeiros dados \n",
    "df.head()"
   ]
  },
  {
   "cell_type": "code",
   "execution_count": 20,
   "id": "db214aeb",
   "metadata": {},
   "outputs": [
    {
     "data": {
      "text/html": [
       "<div>\n",
       "<style scoped>\n",
       "    .dataframe tbody tr th:only-of-type {\n",
       "        vertical-align: middle;\n",
       "    }\n",
       "\n",
       "    .dataframe tbody tr th {\n",
       "        vertical-align: top;\n",
       "    }\n",
       "\n",
       "    .dataframe thead th {\n",
       "        text-align: right;\n",
       "    }\n",
       "</style>\n",
       "<table border=\"1\" class=\"dataframe\">\n",
       "  <thead>\n",
       "    <tr style=\"text-align: right;\">\n",
       "      <th></th>\n",
       "      <th>ano_coleta</th>\n",
       "      <th>pib_cresc_per_capita_%pib</th>\n",
       "    </tr>\n",
       "  </thead>\n",
       "  <tbody>\n",
       "    <tr>\n",
       "      <th>7</th>\n",
       "      <td>2010</td>\n",
       "      <td>5.4941</td>\n",
       "    </tr>\n",
       "  </tbody>\n",
       "</table>\n",
       "</div>"
      ],
      "text/plain": [
       "   ano_coleta  pib_cresc_per_capita_%pib\n",
       "7        2010                     5.4941"
      ]
     },
     "execution_count": 20,
     "metadata": {},
     "output_type": "execute_result"
    }
   ],
   "source": [
    "# Em formato de tabela\n",
    "\n",
    "# Encontrar o índice do ano com maior crescimento do PIB per capita\n",
    "indice_alto_crescimento_pib = df['pib_cresc_per_capita_%pib'].idxmax()\n",
    "\n",
    "# Ano com alto crescimento do PIB per capita\n",
    "ano_alto_crescimento_pib = df.loc[indice_alto_crescimento_pib, 'ano_coleta']\n",
    "valor_crescimento = df.loc[indice_alto_crescimento_pib, 'pib_cresc_per_capita_%pib']\n",
    "\n",
    "# Criar uma tabela para visualização\n",
    "tabela_alto_crescimento = df[df['ano_coleta'] == ano_alto_crescimento_pib][['ano_coleta', 'pib_cresc_per_capita_%pib']]\n",
    "\n",
    "tabela_alto_crescimento"
   ]
  },
  {
   "cell_type": "markdown",
   "id": "ed95f1d5",
   "metadata": {},
   "source": []
  },
  {
   "cell_type": "code",
   "execution_count": 21,
   "id": "8ebdf56c",
   "metadata": {},
   "outputs": [
    {
     "data": {
      "text/plain": [
       "<AxesSubplot:xlabel='ano_coleta'>"
      ]
     },
     "execution_count": 21,
     "metadata": {},
     "output_type": "execute_result"
    },
    {
     "data": {
      "image/png": "[encoded data removed]",
      "text/plain": [
       "<Figure size 720x360 with 1 Axes>"
      ]
     },
     "metadata": {
      "needs_background": "light"
     },
     "output_type": "display_data"
    }
   ],
   "source": [
    "# Gerando um gráfico para vizualizar\n",
    "df.plot(x = \"ano_coleta\", y = [\"pib_cresc_per_capita_%pib\"], kind = \"bar\", figsize = (10,5), color = 'green')"
   ]
  },
  {
   "cell_type": "markdown",
   "id": "5c7fd70e",
   "metadata": {},
   "source": [
    "Ao analisar o gráfico se nota que o ano de 2010 apresentou o maior ano de crescimento do PIB, e no ano de 2008 uma queda drástica do PIB, de fato houve uma grande crise financeira mundial neste ano.\n",
    "\n",
    "Dados complementares: https://www.politize.com.br/crise-financeira-de-2008/"
   ]
  },
  {
   "cell_type": "markdown",
   "id": "176fa300",
   "metadata": {},
   "source": []
  },
  {
   "cell_type": "markdown",
   "id": "fce851a1",
   "metadata": {},
   "source": [
    "## <font color = \"red\">2- Qual Ano Teve as Maiores Despesas com Saúde?</font>"
   ]
  },
  {
   "cell_type": "code",
   "execution_count": 30,
   "id": "daa59495",
   "metadata": {},
   "outputs": [],
   "source": [
    "# Visualiza os dados \n",
    "df.head(3)"
   ]
  },
  {
   "cell_type": "code",
   "execution_count": 35,
   "id": "273d5610",
   "metadata": {},
   "outputs": [],
   "source": [
    "# Calculando o gasto nacional bruto em relação ao PIB na moeda local\n",
    "df['gasto_nac_bruto'] = df[\"despesa_nac_bruta_%pib\"] / 100 * df[\"pib_moeda_local\"]\n",
    "df.head(3)"
   ]
  },
  {
   "cell_type": "code",
   "execution_count": 32,
   "id": "881d0b73",
   "metadata": {},
   "outputs": [],
   "source": [
    "# Calculando o gasto total em saúde e criando uma nova variável\n",
    "df[\"gasto_saude_gov\"] = df[\"domestic_saude_despesas_%pib\"] / 100 * df[\"gasto_nac_bruto\"]\n",
    "df.head(3)"
   ]
  },
  {
   "cell_type": "code",
   "execution_count": 27,
   "id": "2ebffc81",
   "metadata": {},
   "outputs": [],
   "source": [
    "# Gerando um gráfico para vizualizar\n",
    "df.plot(x = \"ano_coleta\", y = [\"gasto_saude_gov\"], kind = \"bar\", figsize = (10,5), color = 'goldenrod')"
   ]
  },
  {
   "cell_type": "markdown",
   "id": "eabdd5b5",
   "metadata": {},
   "source": [
    "## <font color = \"blue\">3- Qual Ano Teve os Maiores Gastos com Educação?</font>"
   ]
  },
  {
   "cell_type": "code",
   "execution_count": 33,
   "id": "2bf36a96",
   "metadata": {},
   "outputs": [],
   "source": [
    "# Visualiza os dados\n",
    "df.head()"
   ]
  },
  {
   "cell_type": "code",
   "execution_count": 41,
   "id": "af31d71c",
   "metadata": {},
   "outputs": [],
   "source": [
    "# Calculando o gasto totla em saúde e criando uma nova variável \n",
    "df[\"gasto_educacao_gov\"] = df[\"despesas_educ_total\"] / 100 * df[\"gasto_nac_bruto\"]"
   ]
  },
  {
   "cell_type": "code",
   "execution_count": 43,
   "id": "29273661",
   "metadata": {},
   "outputs": [
    {
     "data": {
      "text/plain": [
       "<AxesSubplot:xlabel='ano_coleta'>"
      ]
     },
     "execution_count": 43,
     "metadata": {},
     "output_type": "execute_result"
    },
    {
     "data": {
      "image/png": "[encoded data removed]",
      "text/plain": [
       "<Figure size 720x360 with 1 Axes>"
      ]
     },
     "metadata": {
      "needs_background": "light"
     },
     "output_type": "display_data"
    }
   ],
   "source": [
    "# Gerando o gráfico\n",
    "df.plot(x = \"ano_coleta\", y = [\"gasto_educacao_gov\"], kind = \"bar\", figsize = (10,5), color = 'green')"
   ]
  },
  {
   "cell_type": "code",
   "execution_count": null,
   "id": "6334c5db",
   "metadata": {},
   "outputs": [],
   "source": [
    "\n"
   ]
  },
  {
   "cell_type": "code",
   "execution_count": null,
   "id": "eab9b8ff",
   "metadata": {},
   "outputs": [],
   "source": []
  },
  {
   "cell_type": "markdown",
   "id": "974d1420",
   "metadata": {},
   "source": [
    "## <font color = \"red\">4- Como a Receita do Governo se Correlaciona com a Despesa do Governo?</font>"
   ]
  },
  {
   "cell_type": "code",
   "execution_count": null,
   "id": "daac2f88",
   "metadata": {},
   "outputs": [],
   "source": []
  },
  {
   "cell_type": "code",
   "execution_count": null,
   "id": "1dfa5a82",
   "metadata": {},
   "outputs": [],
   "source": []
  },
  {
   "cell_type": "code",
   "execution_count": null,
   "id": "d10f98fd",
   "metadata": {},
   "outputs": [],
   "source": []
  },
  {
   "cell_type": "markdown",
   "id": "5652c05d",
   "metadata": {},
   "source": [
    "## <font color = \"red\">5- Como a Educação e a Saúde se Correlacionam com o Crescimento do PIB?</font>"
   ]
  },
  {
   "cell_type": "code",
   "execution_count": null,
   "id": "7caecc20",
   "metadata": {},
   "outputs": [],
   "source": []
  },
  {
   "cell_type": "code",
   "execution_count": null,
   "id": "ac4313c1",
   "metadata": {},
   "outputs": [],
   "source": []
  },
  {
   "cell_type": "code",
   "execution_count": null,
   "id": "5e61bf8c",
   "metadata": {},
   "outputs": [],
   "source": []
  },
  {
   "cell_type": "markdown",
   "id": "aca57769",
   "metadata": {},
   "source": [
    "## <font color = \"red\">6- Como os Gastos do Governo com Educação e Saúde Afetam o Crescimento do PIB?</font>"
   ]
  },
  {
   "cell_type": "code",
   "execution_count": null,
   "id": "3a8573c2",
   "metadata": {},
   "outputs": [],
   "source": []
  },
  {
   "cell_type": "code",
   "execution_count": null,
   "id": "273307f6",
   "metadata": {},
   "outputs": [],
   "source": []
  },
  {
   "cell_type": "code",
   "execution_count": null,
   "id": "697e6083",
   "metadata": {},
   "outputs": [],
   "source": []
  },
  {
   "cell_type": "markdown",
   "id": "5bea704d",
   "metadata": {},
   "source": [
    "## <font color = \"red\">7- Com Base na Análise Quais São as Recomendações aos Governantes e Gestores?</font>"
   ]
  },
  {
   "cell_type": "code",
   "execution_count": null,
   "id": "9732beb7",
   "metadata": {},
   "outputs": [],
   "source": []
  },
  {
   "cell_type": "code",
   "execution_count": null,
   "id": "5f6a85af",
   "metadata": {},
   "outputs": [],
   "source": []
  },
  {
   "cell_type": "code",
   "execution_count": null,
   "id": "e3bed81a",
   "metadata": {},
   "outputs": [],
   "source": []
  },
  {
   "cell_type": "code",
   "execution_count": null,
   "id": "5c687ca9",
   "metadata": {},
   "outputs": [],
   "source": []
  },
  {
   "cell_type": "code",
   "execution_count": null,
   "id": "42ee27c1",
   "metadata": {},
   "outputs": [],
   "source": []
  },
  {
   "cell_type": "code",
   "execution_count": null,
   "id": "5498a0f6",
   "metadata": {},
   "outputs": [],
   "source": []
  },
  {
   "cell_type": "code",
   "execution_count": null,
   "id": "078be6e3",
   "metadata": {},
   "outputs": [],
   "source": []
  },
  {
   "cell_type": "markdown",
   "id": "ce7aeb6b",
   "metadata": {},
   "source": [
    "> Documentação referência:\n",
    "\n",
    "        https://plotly.com/python/discrete-color/\n",
    "        https://matplotlib.org/stable/users/explain/colors/colormaps.html\n",
    "        https://github.com/plotly/plotly.py"
   ]
  },
  {
   "cell_type": "code",
   "execution_count": null,
   "id": "6422c5b0",
   "metadata": {},
   "outputs": [],
   "source": []
  }
 ],
 "metadata": {
  "kernelspec": {
   "display_name": "Python 3 (ipykernel)",
   "language": "python",
   "name": "python3"
  },
  "language_info": {
   "codemirror_mode": {
    "name": "ipython",
    "version": 3
   },
   "file_extension": ".py",
   "mimetype": "text/x-python",
   "name": "python",
   "nbconvert_exporter": "python",
   "pygments_lexer": "ipython3",
   "version": "3.9.7"
  }
 },
 "nbformat": 4,
 "nbformat_minor": 5
}
